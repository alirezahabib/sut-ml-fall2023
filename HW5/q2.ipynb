{
 "cells": [
  {
   "cell_type": "markdown",
   "id": "c4bd39926fd00106",
   "metadata": {
    "collapsed": false,
    "jupyter": {
     "outputs_hidden": false
    }
   },
   "source": [
    "# Q2 - Mushroom Classification\n",
    "## Alireza Habibzadeh `99109393`"
   ]
  },
  {
   "cell_type": "code",
   "execution_count": 27,
   "id": "27c6c2346e8931c5",
   "metadata": {
    "ExecuteTime": {
     "end_time": "2024-01-19T11:26:53.831828Z",
     "start_time": "2024-01-19T11:26:53.828123Z"
    },
    "collapsed": false,
    "jupyter": {
     "outputs_hidden": false
    }
   },
   "outputs": [],
   "source": [
    "import pandas as pd\n",
    "from sklearn.model_selection import train_test_split\n",
    "from sklearn.tree import DecisionTreeClassifier\n",
    "from sklearn.metrics import accuracy_score\n",
    "from sklearn.preprocessing import OneHotEncoder\n",
    "from sklearn.impute import SimpleImputer"
   ]
  },
  {
   "cell_type": "markdown",
   "id": "6fe41fc86f116ed9",
   "metadata": {
    "collapsed": false,
    "jupyter": {
     "outputs_hidden": false
    }
   },
   "source": [
    "## وارد کردن داده‌ها و تقسیم به داده‌های آموزشی، اعتبارسنجی و آزمون"
   ]
  },
  {
   "cell_type": "code",
   "execution_count": 28,
   "id": "84168378e3ad0dd9",
   "metadata": {
    "ExecuteTime": {
     "end_time": "2024-01-19T11:26:55.279059Z",
     "start_time": "2024-01-19T11:26:55.246718Z"
    },
    "collapsed": false,
    "jupyter": {
     "outputs_hidden": false
    }
   },
   "outputs": [],
   "source": [
    "def split_data(data):\n",
    "    X = data.iloc[:, 1:]  # Features\n",
    "    y = data.iloc[:, 0]   # Target\n",
    "    X_train, X_temp, y_train, y_temp = train_test_split(X, y, test_size=0.3)\n",
    "    X_val, X_test, y_val, y_test = train_test_split(X_temp, y_temp, test_size=1/3)\n",
    "    return X_train, X_val, X_test, y_train, y_val, y_test\n",
    "\n",
    "data = pd.read_csv('mushrooms.csv', na_values='?')\n",
    "X_train, X_val, X_test, y_train, y_val, y_test = split_data(data)"
   ]
  },
  {
   "cell_type": "markdown",
   "id": "99d9a54f2708b3dc",
   "metadata": {
    "collapsed": false,
    "jupyter": {
     "outputs_hidden": false
    }
   },
   "source": [
    "## 1. برخورد با مقادیر خالی\n",
    "برای برخورد با آن‌هایی که میس شده‌اند آن‌ها را با پرتکرارترینشان در داده‌های آموزشی جایگزین می‌کنیم.\n",
    "چون این داده‌ها به صورت کتگوریکال هستند و می‌توانند مقادیر متفاوتی داشته باشند، از میانگین استفاده نمی‌کنیم.\n",
    "\n",
    "ضمنا حواسمان هست پرتکرارترین را تنها روی داده‌های آموزشی پیدا کنیم و نتیجه را روی همه‌ی دیتاست‌ها اعمال کنیم تا از داده‌های غیرآموزشی نشت نداشته باشیم."
   ]
  },
  {
   "cell_type": "code",
   "execution_count": 29,
   "id": "713e7a2508a95092",
   "metadata": {
    "ExecuteTime": {
     "end_time": "2024-01-19T11:26:56.937031Z",
     "start_time": "2024-01-19T11:26:56.906457Z"
    },
    "collapsed": false,
    "jupyter": {
     "outputs_hidden": false
    }
   },
   "outputs": [
    {
     "name": "stdout",
     "output_type": "stream",
     "text": [
      "Number of missing values in training data before imputation: 1745\n"
     ]
    }
   ],
   "source": [
    "def handle_missing_values(X_train, X_val, X_test):\n",
    "    print(f'Number of missing values in training data before imputation: {X_train.isnull().sum().sum()}')\n",
    "    \n",
    "    imputer = SimpleImputer(strategy='most_frequent')\n",
    "    X_train_imputed = pd.DataFrame(imputer.fit_transform(X_train), columns=X_train.columns)\n",
    "    X_val_imputed = pd.DataFrame(imputer.transform(X_val), columns=X_val.columns)\n",
    "    X_test_imputed = pd.DataFrame(imputer.transform(X_test), columns=X_test.columns)\n",
    "    return X_train_imputed, X_val_imputed, X_test_imputed\n",
    "\n",
    "X_train_imputed, X_val_imputed, X_test_imputed = handle_missing_values(X_train, X_val, X_test)"
   ]
  },
  {
   "cell_type": "markdown",
   "id": "661e3728366cb24d",
   "metadata": {
    "collapsed": false,
    "jupyter": {
     "outputs_hidden": false
    }
   },
   "source": [
    "## انکود داده‌ها\n",
    "باید داده‌های کتگوریکال را به اعداد مپ کنیم تا مدل بتواند با آن کار کند."
   ]
  },
  {
   "cell_type": "code",
   "execution_count": 30,
   "id": "2336e4da9431370f",
   "metadata": {
    "ExecuteTime": {
     "end_time": "2024-01-19T11:27:00.318242Z",
     "start_time": "2024-01-19T11:27:00.291049Z"
    },
    "collapsed": false,
    "jupyter": {
     "outputs_hidden": false
    }
   },
   "outputs": [],
   "source": [
    "encoder = OneHotEncoder()\n",
    "X_train_encoded = encoder.fit_transform(X_train_imputed)\n",
    "X_val_encoded = encoder.transform(X_val_imputed)\n",
    "X_test_encoded = encoder.transform(X_test_imputed)"
   ]
  },
  {
   "cell_type": "markdown",
   "id": "968aeaae80ef22a1",
   "metadata": {
    "collapsed": false,
    "jupyter": {
     "outputs_hidden": false
    }
   },
   "source": [
    "## 2."
   ]
  },
  {
   "cell_type": "code",
   "execution_count": 31,
   "id": "fc06e175168a569d",
   "metadata": {
    "ExecuteTime": {
     "end_time": "2024-01-19T11:27:03.451608Z",
     "start_time": "2024-01-19T11:27:03.363033Z"
    },
    "collapsed": false,
    "jupyter": {
     "outputs_hidden": false
    }
   },
   "outputs": [
    {
     "name": "stdout",
     "output_type": "stream",
     "text": [
      "Best Depth: 8\n",
      "Training Error: 0.00%\n",
      "Test Error: 0.00%\n"
     ]
    }
   ],
   "source": [
    "def find_decision_tree(X_train, X_val, y_train, y_val):\n",
    "    depths = [4, 8, 16, 24, 32]\n",
    "    best_model, best_accuracy, best_depth = None, 0, None\n",
    "    \n",
    "    for depth in depths:\n",
    "        model = DecisionTreeClassifier(max_depth=depth, criterion='gini')\n",
    "        model.fit(X_train, y_train)\n",
    "        accuracy = accuracy_score(y_val, model.predict(X_val))\n",
    "        if accuracy > best_accuracy:\n",
    "            best_model, best_accuracy, best_depth = model, accuracy, depth\n",
    "\n",
    "    return best_model, best_depth\n",
    "\n",
    "best_model, best_depth = find_decision_tree(X_train_encoded, X_val_encoded, y_train, y_val)\n",
    "\n",
    "train_error = 1 - accuracy_score(y_train, best_model.predict(X_train_encoded))\n",
    "test_error = 1 - accuracy_score(y_test, best_model.predict(X_test_encoded))\n",
    "\n",
    "print(f'Best Depth: {best_depth}')\n",
    "print(f'Training Error: {train_error:.2%}')\n",
    "print(f'Test Error: {test_error:.2%}')"
   ]
  },
  {
   "cell_type": "markdown",
   "id": "af1c2bcab8c4ccd2",
   "metadata": {
    "collapsed": false,
    "jupyter": {
     "outputs_hidden": false
    }
   },
   "source": [
    "## 3."
   ]
  },
  {
   "cell_type": "code",
   "execution_count": 32,
   "id": "7c6c55da964d951f",
   "metadata": {
    "ExecuteTime": {
     "end_time": "2024-01-19T11:27:19.661567Z",
     "start_time": "2024-01-19T11:27:19.409268Z"
    },
    "collapsed": false,
    "jupyter": {
     "outputs_hidden": false
    }
   },
   "outputs": [
    {
     "name": "stdout",
     "output_type": "stream",
     "text": [
      "Depth: 4, Features: 3, Training Accuracy: 92.65%, Validation Accuracy: 93.29%\n",
      "Depth: 4, Features: 5, Training Accuracy: 92.51%, Validation Accuracy: 92.86%\n",
      "Depth: 4, Features: 7, Training Accuracy: 96.32%, Validation Accuracy: 96.68%\n",
      "Depth: 8, Features: 3, Training Accuracy: 99.00%, Validation Accuracy: 99.02%\n",
      "Depth: 8, Features: 5, Training Accuracy: 100.00%, Validation Accuracy: 100.00%\n",
      "Depth: 8, Features: 7, Training Accuracy: 99.88%, Validation Accuracy: 99.82%\n",
      "Depth: 12, Features: 3, Training Accuracy: 100.00%, Validation Accuracy: 100.00%\n",
      "Depth: 12, Features: 5, Training Accuracy: 100.00%, Validation Accuracy: 100.00%\n",
      "Depth: 12, Features: 7, Training Accuracy: 100.00%, Validation Accuracy: 100.00%\n",
      "Depth: 16, Features: 3, Training Accuracy: 100.00%, Validation Accuracy: 100.00%\n",
      "Depth: 16, Features: 5, Training Accuracy: 100.00%, Validation Accuracy: 100.00%\n",
      "Depth: 16, Features: 7, Training Accuracy: 100.00%, Validation Accuracy: 100.00%\n",
      "Test Accuracy: 100.00%\n",
      "Best Parameters: Depth = 8, Features = 5\n"
     ]
    }
   ],
   "source": [
    "from sklearn.ensemble import RandomForestClassifier\n",
    "\n",
    "def train_random_forest_models(X_train, y_train, X_val, y_val):\n",
    "    max_depths = [4, 8, 12, 16]\n",
    "    max_features = [3, 5, 7]\n",
    "    best_model = None\n",
    "    best_accuracy = 0\n",
    "    best_params = None\n",
    "    results = []\n",
    "\n",
    "    for depth in max_depths:\n",
    "        for features in max_features:\n",
    "            model = RandomForestClassifier(n_estimators=7, max_depth=depth, max_features=features)\n",
    "            model.fit(X_train, y_train)\n",
    "            training_accuracy = accuracy_score(y_train, model.predict(X_train))\n",
    "            validation_accuracy = accuracy_score(y_val, model.predict(X_val))\n",
    "            results.append((depth, features, training_accuracy, validation_accuracy))\n",
    "\n",
    "            if validation_accuracy > best_accuracy:\n",
    "                best_accuracy = validation_accuracy\n",
    "                best_model = model\n",
    "                best_params = (depth, features)\n",
    "\n",
    "    return best_model, best_params, results\n",
    "\n",
    "\n",
    "best_rf_model, best_rf_params, rf_results = train_random_forest_models(X_train_encoded, y_train, X_val_encoded, y_val)\n",
    "\n",
    "for depth, features, training_accuracy, validation_accuracy in rf_results:\n",
    "    print(f'Depth: {depth}, Features: {features}, Training Accuracy: {training_accuracy:.2%}, Validation Accuracy: {validation_accuracy:.2%}')\n",
    "\n",
    "test_accuracy_rf = accuracy_score(y_test, best_rf_model.predict(X_test_encoded))\n",
    "print(f'Test Accuracy: {test_accuracy_rf:.2%}')\n",
    "print(f'Best Parameters: Depth = {best_rf_params[0]}, Features = {best_rf_params[1]}')"
   ]
  },
  {
   "cell_type": "code",
   "execution_count": 33,
   "id": "9b7eaf45b5f498f8",
   "metadata": {
    "ExecuteTime": {
     "end_time": "2024-01-19T11:27:39.279738Z",
     "start_time": "2024-01-19T11:27:39.170432Z"
    },
    "collapsed": false,
    "jupyter": {
     "outputs_hidden": false
    }
   },
   "outputs": [
    {
     "data": {
      "image/png": "[encoded data removed]",
      "text/plain": [
       "<Figure size 1000x600 with 2 Axes>"
      ]
     },
     "metadata": {},
     "output_type": "display_data"
    }
   ],
   "source": [
    "import matplotlib.pyplot as plt\n",
    "import seaborn as sns\n",
    "\n",
    "vis_data = pd.DataFrame(rf_results, columns=['Max Depth', 'Max Features', 'Training Accuracy', 'Validation Accuracy'])\n",
    "\n",
    "pivot_table = vis_data.pivot(index='Max Depth', columns='Max Features', values='Validation Accuracy')\n",
    "\n",
    "plt.figure(figsize=(10, 6))\n",
    "sns.heatmap(pivot_table, annot=True, fmt='.2%', cmap='viridis')\n",
    "plt.title('Random Forest Validation Accuracies')\n",
    "plt.ylabel('Max Depth')\n",
    "plt.xlabel('Max Features')\n",
    "plt.show()"
   ]
  }
 ],
 "metadata": {
  "kernelspec": {
   "display_name": "Python 3 (ipykernel)",
   "language": "python",
   "name": "python3"
  },
  "language_info": {
   "codemirror_mode": {
    "name": "ipython",
    "version": 3
   },
   "file_extension": ".py",
   "mimetype": "text/x-python",
   "name": "python",
   "nbconvert_exporter": "python",
   "pygments_lexer": "ipython3",
   "version": "3.12.1"
  }
 },
 "nbformat": 4,
 "nbformat_minor": 5
}
