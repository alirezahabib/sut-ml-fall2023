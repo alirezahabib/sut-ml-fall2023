{
 "cells": [
  {
   "cell_type": "markdown",
   "metadata": {
    "id": "ZEenUBBcgdW1"
   },
   "source": [
    "# HW3\n",
    "\n",
    "### Name : Alireza Habibzadeh\n",
    "### Student id : 99109393\n",
    "\n",
    "\n",
    "In this exercise you will implement **M**ulti**L**ayer **P**erceptron(MLP) using numpy. And then you will train an MLP on MNIST dataset for binary classification."
   ]
  },
  {
   "cell_type": "markdown",
   "metadata": {
    "id": "tYZDdfscgdW3"
   },
   "source": [
    "### imports"
   ]
  },
  {
   "cell_type": "code",
   "execution_count": 2,
   "metadata": {
    "_cell_guid": "b1076dfc-b9ad-4769-8c92-a6c4dae69d19",
    "_uuid": "8f2839f25d086af736a60e9eeb907d3b93b6e0e5",
    "execution": {
     "iopub.execute_input": "2023-11-08T19:17:51.302078Z",
     "iopub.status.busy": "2023-11-08T19:17:51.301721Z",
     "iopub.status.idle": "2023-11-08T19:17:52.888457Z",
     "shell.execute_reply": "2023-11-08T19:17:52.887599Z",
     "shell.execute_reply.started": "2023-11-08T19:17:51.302045Z"
    },
    "trusted": true,
    "id": "Av2lxtCDgdW3"
   },
   "outputs": [],
   "source": [
    "import numpy as np\n",
    "import pandas as pd\n",
    "from sklearn.metrics import accuracy_score"
   ]
  },
  {
   "cell_type": "markdown",
   "metadata": {
    "execution": {
     "iopub.execute_input": "2023-11-06T19:41:20.249363Z",
     "iopub.status.busy": "2023-11-06T19:41:20.248965Z",
     "iopub.status.idle": "2023-11-06T19:41:20.257895Z",
     "shell.execute_reply": "2023-11-06T19:41:20.256532Z",
     "shell.execute_reply.started": "2023-11-06T19:41:20.249332Z"
    },
    "id": "7MtiumApgdW3"
   },
   "source": [
    "# 1.Forward and Backward for each layer type in MLP"
   ]
  },
  {
   "cell_type": "markdown",
   "metadata": {
    "id": "luW70pvcgdW4"
   },
   "source": [
    "In order to compute the gradients of learnable parameter of your MLP, you should implement backpropagation. To to this you should implement `forward` and `backward` functions for each layer type. During training the loss will be computed in forward pass . And then in the backward pass the gradients $\\frac{\\partial{L}}{\\partial{W}}$ for each learnable parameter($w$) will be computed using chain rule.($L$ is scalar loss, $W$ is learnable parameter for which we want to compute gradients and $Y$ is the output of the layer)\n",
    "\n",
    "Chain Rule : $\\frac{\\partial{L}}{\\partial{W}}=\\frac{\\partial{L}}{\\partial{Y}}\\frac{\\partial{Y}}{\\partial{W}}$\n",
    "\n",
    "There are 3 layer types in an MLP:\n",
    "\n",
    "1. Linear Layers(also known as Fully Connected or Dense layers)\n",
    "2. Activation functions(e.g. Sigmoid, Tanh, ReLU, ...)\n",
    "3. Loss Function(BinaryCrossEntropyLoss)\n",
    "\n",
    "Now, you should implement `forward()` and `backward()` for each layer.\n",
    "\n",
    "Helpful notes :\n",
    "1. the shape of the gradients is the same as the shape as the parameter themselves(`W.shape=dW.shape` for each learnable parameter $W$)"
   ]
  },
  {
   "cell_type": "markdown",
   "metadata": {
    "id": "9-waNNiBgdW4"
   },
   "source": [
    "## 1.1. Linear Layers\n",
    "A linear layer is a set of $N$ neurons. Each neuron linearly transforms the input features. This neurons together will create the Linear layer.\n",
    "\n",
    "The input of the linear layer is of shape BxM, where B is batch-size and M is the number of input features. The weight of the linear layer($W$) is an MxN matrix.\n",
    "\n",
    "In the forward pass you should compute the output `out = xW+b`.\n",
    "\n",
    "In the backward pass you should compute $\\frac{\\partial{L}}{\\partial{W}}$, $\\frac{\\partial{L}}{\\partial{b}}$ and $\\frac{\\partial{L}}{\\partial{x}}$.\n",
    "\n",
    "`backward()` returns $\\frac{\\partial{L}}{\\partial{x}}$, which previous layer would be use as its $\\frac{\\partial{L}}{\\partial{Y}}$.\n",
    "\n",
    "**Important Note**: During the forward pass you can use `self.cache` to store whatever you need in order to compute the gradients in the backward pass."
   ]
  },
  {
   "cell_type": "code",
   "execution_count": 3,
   "metadata": {
    "execution": {
     "iopub.execute_input": "2023-11-08T19:21:02.268368Z",
     "iopub.status.busy": "2023-11-08T19:21:02.267832Z",
     "iopub.status.idle": "2023-11-08T19:21:02.279822Z",
     "shell.execute_reply": "2023-11-08T19:21:02.278138Z",
     "shell.execute_reply.started": "2023-11-08T19:21:02.268335Z"
    },
    "trusted": true,
    "id": "uXrIHfsHgdW4"
   },
   "outputs": [],
   "source": [
    "class Linear:\n",
    "    def __init__(self, in_features, out_features):\n",
    "        self.W = np.random.randn(in_features, out_features) #weights\n",
    "        self.b = np.random.randn(out_features, ) #biases\n",
    "        self.dW = None #gradients of Loss with respect to weights(dL/dW)\n",
    "        self.db = None #gradients of Loss with respect to biases(dL/db)\n",
    "        self.cache = {}\n",
    "\n",
    "    def __repr__(self):\n",
    "        return f'Linear({self.W.shape[0]},{self.W.shape[1]})'\n",
    "\n",
    "    def forward(self, x):\n",
    "        \"\"\"\n",
    "        x : input array of shape (batch-size x in_features)\n",
    "        out = output of the layer after linear transformation\n",
    "        \"\"\"\n",
    "        ####################################################################################################\n",
    "        ####################                         Your Code                         ####################\n",
    "        ####################################################################################################\n",
    "        out = np.dot(x, self.W) + self.b\n",
    "        self.cache['x'] = x\n",
    "        ####################################################################################################\n",
    "        ####################                      End Of Your Code                      ####################\n",
    "        ####################################################################################################\n",
    "        return out\n",
    "\n",
    "\n",
    "    def backward(self, dout):\n",
    "        \"\"\"\n",
    "        dout : gradients of Loss with respect to this layer's outputs. (dL/dY)\n",
    "        dx : gradients of Loss with respect to this layer's inputs. (dL/dx)\n",
    "        \"\"\"\n",
    "        ####################################################################################################\n",
    "        ####################                         Your Code                         ####################\n",
    "        ####################################################################################################\n",
    "        x = self.cache['x']\n",
    "        self.dW = np.dot(x.T, dout)\n",
    "        self.db = np.sum(dout, axis=0)\n",
    "        dx = np.dot(dout, self.W.T)\n",
    "        ####################################################################################################\n",
    "        ####################                      End Of Your Code                      ####################\n",
    "        ####################################################################################################\n",
    "        return dx\n"
   ]
  },
  {
   "cell_type": "markdown",
   "metadata": {
    "id": "Hdz_j2lygdW4"
   },
   "source": [
    "### Test for Linear Layer\n",
    "\n",
    "You can test your implementation of linear layer in the following cell.\n",
    "\n",
    "the difference between the correct answer and your results should be very small.(norm of the difference should be less than 10e-6)"
   ]
  },
  {
   "cell_type": "code",
   "execution_count": 4,
   "metadata": {
    "execution": {
     "iopub.execute_input": "2023-11-08T19:21:03.157823Z",
     "iopub.status.busy": "2023-11-08T19:21:03.157387Z",
     "iopub.status.idle": "2023-11-08T19:21:03.172262Z",
     "shell.execute_reply": "2023-11-08T19:21:03.171047Z",
     "shell.execute_reply.started": "2023-11-08T19:21:03.157790Z"
    },
    "trusted": true,
    "colab": {
     "base_uri": "https://localhost:8080/"
    },
    "id": "IckUBzQNgdW4",
    "outputId": "44deaa6c-2cff-4669-b0ff-532801c90584"
   },
   "outputs": [
    {
     "output_type": "stream",
     "name": "stdout",
     "text": [
      "Output error(forward pass): 8.659947536414722e-09\n",
      "dW error: 6.405965027075992e-09\n",
      "db error: 2.1446962596316095e-09\n",
      "dx error: 9.099648788366998e-09\n"
     ]
    }
   ],
   "source": [
    "np.random.seed(42)\n",
    "B,M,N = 4,3,2\n",
    "linear = Linear(M,N)\n",
    "x = np.random.randn(B,M)\n",
    "dout = np.random.randn(B,N)\n",
    "output = linear.forward(x)\n",
    "dx = linear.backward(dout)\n",
    "correct_output = np.array([[ 1.80593898,  1.76718463],\n",
    "       [ 1.95259547,  1.64831391],\n",
    "       [ 0.59539235,  0.38668979],\n",
    "       [ 1.4778828 , -0.32828975]])\n",
    "correct_dW = np.array([[-0.14221564,  0.69627356],\n",
    "       [ 2.16277123, -0.87074574],\n",
    "       [ 1.3685123 ,  2.18762574]])\n",
    "correct_dx = np.array([[ 0.75922529,  0.60541986, -0.29032403],\n",
    "       [ 0.23053403, -2.12619678,  0.31777425],\n",
    "       [-0.28573924, -0.18365204,  0.10149797],\n",
    "       [-0.62366042, -0.17328605,  0.18154424]])\n",
    "correct_db = np.array([-0.16219933, -1.16390388])\n",
    "\n",
    "print(f'Output error(forward pass): {np.linalg.norm(correct_output - output)}')\n",
    "print(f'dW error: {np.linalg.norm(correct_dW - linear.dW)}')\n",
    "print(f'db error: {np.linalg.norm(correct_db - linear.db)}')\n",
    "print(f'dx error: {np.linalg.norm(correct_dx - dx)}')\n"
   ]
  },
  {
   "cell_type": "markdown",
   "metadata": {
    "id": "h6NnMOvWgdW4"
   },
   "source": [
    "## 1.2. Sigmoid Activation Function\n",
    "Similar to Linear layer, the input `x` is an (B,M) numpy array. The output of the sigmoid activation layer is also an (B,M) numpy array.\n",
    "\n",
    "In the forward pass you should apply sigmoid non-linearity to the input features.\n",
    "\n",
    "In the backward pass you should compute the gradient of Loss with respect to the input features($\\frac{\\partial{L}}{\\partial{x}}$). You need to use chain rule and dout ($\\frac{\\partial{L}}{\\partial{Y}}$) that comes from the next layer.\n",
    "\n",
    "**Important Note**: During the forward progagation you can use `self.cache` to store whatever you need in order to compute the gradients in the backward pass."
   ]
  },
  {
   "cell_type": "code",
   "execution_count": 5,
   "metadata": {
    "execution": {
     "iopub.execute_input": "2023-11-08T19:21:55.383222Z",
     "iopub.status.busy": "2023-11-08T19:21:55.382863Z",
     "iopub.status.idle": "2023-11-08T19:21:55.391482Z",
     "shell.execute_reply": "2023-11-08T19:21:55.390335Z",
     "shell.execute_reply.started": "2023-11-08T19:21:55.383192Z"
    },
    "trusted": true,
    "id": "Bg1B8SSMgdW4"
   },
   "outputs": [],
   "source": [
    "def sigmoid_value(x):\n",
    "    return 1 / (1 + np.exp(-x))\n",
    "\n",
    "class Sigmoid:\n",
    "    def __init__(self):\n",
    "        self.cache = None\n",
    "\n",
    "    def __repr__(self):\n",
    "        return 'Sigmoid'\n",
    "\n",
    "    def forward(self, x):\n",
    "        \"\"\"\n",
    "        x : input array\n",
    "        out : result of applying sigmoid non-linearity to x\n",
    "        \"\"\"\n",
    "        ####################################################################################################\n",
    "        ####################                         Your Code                         ####################\n",
    "        ####################################################################################################\n",
    "        out = sigmoid_value(x)\n",
    "        self.cache = out\n",
    "        ####################################################################################################\n",
    "        ####################                      End Of Your Code                      ####################\n",
    "        ####################################################################################################\n",
    "        return out\n",
    "\n",
    "    def backward(self, dout):\n",
    "        \"\"\"\n",
    "        dout : gradients of Loss with respect to this layer's outputs. (dL/dY)\n",
    "        dx : gradients of Loss with respect to this layer's inputs. (dL/dx)\n",
    "        \"\"\"\n",
    "        ####################################################################################################\n",
    "        ####################                         Your Code                         ####################\n",
    "        ####################################################################################################\n",
    "        sigmoid_out = self.cache\n",
    "        # Using the fact that σ' = σ(1-σ)\n",
    "        dx = dout * sigmoid_out * (1 - sigmoid_out)\n",
    "        ####################################################################################################\n",
    "        ####################                      End Of Your Code                      ####################\n",
    "        ####################################################################################################\n",
    "        return dx\n"
   ]
  },
  {
   "cell_type": "markdown",
   "metadata": {
    "id": "rSgI2bj4gdW4"
   },
   "source": [
    "### Test for Sigmoid\n",
    "\n",
    "You can test your implementation of Sigmoid layer in the following cell.\n",
    "\n",
    "the difference between the correct answer and your results should be very small.(norm of the difference should be less than 10e-6)"
   ]
  },
  {
   "cell_type": "code",
   "execution_count": 6,
   "metadata": {
    "execution": {
     "iopub.execute_input": "2023-11-08T19:21:59.077981Z",
     "iopub.status.busy": "2023-11-08T19:21:59.077571Z",
     "iopub.status.idle": "2023-11-08T19:21:59.090740Z",
     "shell.execute_reply": "2023-11-08T19:21:59.089455Z",
     "shell.execute_reply.started": "2023-11-08T19:21:59.077946Z"
    },
    "trusted": true,
    "colab": {
     "base_uri": "https://localhost:8080/"
    },
    "id": "ClrtWBWigdW5",
    "outputId": "e9c97e87-2c50-45aa-ead4-029a0fdd65b0"
   },
   "outputs": [
    {
     "output_type": "stream",
     "name": "stdout",
     "text": [
      "Output error(forward pass): 1.0374121678625628e-08\n",
      "dx error: 9.878633327108084e-09\n"
     ]
    }
   ],
   "source": [
    "np.random.seed(42)\n",
    "B,M = 4,3\n",
    "x = np.random.randn(B,M)\n",
    "sigmoid = Sigmoid()\n",
    "dout = np.random.randn(B,M)\n",
    "output = sigmoid.forward(x)\n",
    "dx = sigmoid.backward(dout)\n",
    "correct_output = np.array([[0.62168683, 0.46548889, 0.65648939],\n",
    "       [0.82098421, 0.44172766, 0.44173171],\n",
    "       [0.829093  , 0.68296571, 0.38474066],\n",
    "       [0.63240775, 0.38617537, 0.38562745]])\n",
    "correct_dx = np.array([[ 0.05690767, -0.47604131, -0.38898807],\n",
    "       [-0.08263891, -0.24976854,  0.0774949 ],\n",
    "       [-0.12866501, -0.30579701,  0.34694146],\n",
    "       [-0.05248581,  0.01600715, -0.3375498 ]])\n",
    "print(f'Output error(forward pass): {np.linalg.norm(correct_output - output)}')\n",
    "print(f'dx error: {np.linalg.norm(correct_dx - dx)}')"
   ]
  },
  {
   "cell_type": "markdown",
   "metadata": {
    "id": "hI4VGMzugdW5"
   },
   "source": [
    "## 1.3. Binary Cross Entropy Loss\n",
    "\n",
    "Unlike previous layer types, the binary cross entropy loss takes two arguments in its forward pass :\n",
    "1. input : This is a Bx1 NumPy array, which represents the output of the previous Sigmoid Layer. Essentially, this array serves as the model's prediction, where each element denotes the probability of the label being 1.\n",
    "2. target : This is a vector of size B, where each element represents the correct class of the input image (either 0 or 1).\n",
    "\n",
    "In the forward pass, you should compute the binary cross entropy loss using the input probabilities and the target vector.\n",
    "\n",
    "\n",
    "In the backward pass you should compute the gradient of Loss with respect to the input features($\\frac{\\partial{L}}{\\partial{\\text{input}}}$).\n",
    "\n",
    "**Important Notes**:\n",
    "\n",
    "1. Similar to Sigmoid and Linear layers, you can store any intermediate results(hint: `input` and `target`) in `self.cache` during forward pass and later use them in backward pass to compute the gradients.\n",
    "2. You should return both `probs` and `loss` in your `forward` function.\n",
    "3. `probs` is the squeezed version of `input` (you can squeeze `input` using `.squeeze()`). Remember that dimension of `input` is Bx1 and by squeezing it it will become a vector of size B.\n",
    "4. The shape of `dx` should be Bx1"
   ]
  },
  {
   "cell_type": "code",
   "execution_count": 7,
   "metadata": {
    "id": "dWy1iEGBgdW5"
   },
   "outputs": [],
   "source": [
    "class BinaryCrossEntropyLoss:\n",
    "    def __init__(self) :\n",
    "        self.cache = {}\n",
    "\n",
    "    def forward(self, input, target):\n",
    "        ####################################################################################################\n",
    "        ####################                         Your Code                         ####################\n",
    "        ####################################################################################################\n",
    "        probs = input.squeeze()\n",
    "\n",
    "        loss = -np.mean(target * np.log(probs) + (1 - target) * np.log(1 - probs))\n",
    "\n",
    "        self.cache['probs'] = probs\n",
    "        self.cache['target'] = target\n",
    "        ####################################################################################################\n",
    "        ####################                      End Of Your Code                      ####################\n",
    "        ####################################################################################################\n",
    "        return loss, probs\n",
    "\n",
    "    def backward(self):\n",
    "        ####################################################################################################\n",
    "        ####################                         Your Code                         ####################\n",
    "        ####################################################################################################\n",
    "        probs = self.cache['probs']\n",
    "        target = self.cache['target']\n",
    "\n",
    "        dx = (probs - target) / (probs * (1 - probs)) / target.shape[0]\n",
    "        dx = dx[:, np.newaxis]  # Convert to Bx1 shape\n",
    "        ####################################################################################################\n",
    "        ####################                      End Of Your Code                      ####################\n",
    "        ####################################################################################################\n",
    "        return dx\n"
   ]
  },
  {
   "cell_type": "markdown",
   "metadata": {
    "execution": {
     "iopub.execute_input": "2023-11-06T20:09:06.715256Z",
     "iopub.status.busy": "2023-11-06T20:09:06.714856Z",
     "iopub.status.idle": "2023-11-06T20:09:06.725259Z",
     "shell.execute_reply": "2023-11-06T20:09:06.723971Z",
     "shell.execute_reply.started": "2023-11-06T20:09:06.715225Z"
    },
    "trusted": true,
    "id": "DopTpwGIgdW5"
   },
   "source": [
    "### Test for Binary Cross Entropy Loss\n",
    "\n",
    "You can test your implementation of Binary Cross Entropy Loss in the following cell.\n",
    "\n",
    "the difference between the correct answer and your results should be very small.(norm of the difference should be less than 10e-6)"
   ]
  },
  {
   "cell_type": "code",
   "execution_count": 8,
   "metadata": {
    "execution": {
     "iopub.execute_input": "2023-11-08T19:25:46.962838Z",
     "iopub.status.busy": "2023-11-08T19:25:46.962450Z",
     "iopub.status.idle": "2023-11-08T19:25:46.975192Z",
     "shell.execute_reply": "2023-11-08T19:25:46.973887Z",
     "shell.execute_reply.started": "2023-11-08T19:25:46.962808Z"
    },
    "trusted": true,
    "colab": {
     "base_uri": "https://localhost:8080/"
    },
    "id": "2vjyt53OgdW5",
    "outputId": "e71c777a-400a-4034-947a-462d8fff230a"
   },
   "outputs": [
    {
     "output_type": "stream",
     "name": "stdout",
     "text": [
      "Loss error: 0.0\n",
      "dx error: 7.1397382603248244e-09\n"
     ]
    }
   ],
   "source": [
    "np.random.seed(42)\n",
    "B = 4\n",
    "M = 1\n",
    "\n",
    "x = np.random.rand(B,M)\n",
    "y = np.random.randint(0, M+1, (B, ))\n",
    "\n",
    "BCE = BinaryCrossEntropyLoss()\n",
    "\n",
    "loss, _ = BCE.forward(x, y)\n",
    "dx = BCE.backward()\n",
    "\n",
    "correct_dx = np.array([[ 0.39970589],\n",
    "       [-0.26296017],\n",
    "       [ 0.93281473],\n",
    "       [ 0.62291089]])\n",
    "correct_loss = 0.6873745031844983\n",
    "print('Loss error:', np.abs(loss - correct_loss))\n",
    "print('dx error:', np.linalg.norm(dx - correct_dx))"
   ]
  },
  {
   "cell_type": "markdown",
   "metadata": {
    "id": "AG3XoUjfgdW5"
   },
   "source": [
    "# 2. Creating Model"
   ]
  },
  {
   "cell_type": "markdown",
   "metadata": {
    "id": "-rvKYrKRgdW5"
   },
   "source": [
    "The following cell defines the Model class. A Model has some modules/layers  (`self.modules`). This modules are ordered and create our MLP network. For instance, if the modules in the Model are `[Linear(784,200),Sigmoid(),Linear(200,1),Sigmoid()]`, means that the model is a two layer MLP where the shape of the input is 784. There is a hidden layer with hidden dimension of 200.\n",
    "\n",
    "The `forward()` function, propagates inputs (`X`) of the network ,from the first layer to last layer sequentialy and then computes the loss using targets (`Y`) and the given loss function `loss_fn`. This function returns loss and the computed probabilities for the input batch.\n",
    "\n",
    "The `backward()` function propagates gradients from `dx` computed in the loss function backwards to the weights and biases of the first layer.\n",
    "\n",
    "The `update_weights()` function update weights using SGD and a given learning rate.\n",
    "\n",
    "The `evaluate()` function computes the loss and accuracy, given a batch of inputs and their corresponding targets.\n",
    "\n",
    "**Note** : This Model class is implemented for you and you don't need to change this cell."
   ]
  },
  {
   "cell_type": "code",
   "execution_count": 9,
   "metadata": {
    "execution": {
     "iopub.execute_input": "2023-11-08T19:33:13.602775Z",
     "iopub.status.busy": "2023-11-08T19:33:13.602416Z",
     "iopub.status.idle": "2023-11-08T19:33:13.612455Z",
     "shell.execute_reply": "2023-11-08T19:33:13.611216Z",
     "shell.execute_reply.started": "2023-11-08T19:33:13.602746Z"
    },
    "trusted": true,
    "id": "vmJctervgdW5"
   },
   "outputs": [],
   "source": [
    "class Model:\n",
    "\n",
    "    def __init__(self,modules,loss_fn):\n",
    "        self.modules = modules\n",
    "        self.loss_fn = loss_fn\n",
    "\n",
    "    def __repr__(self):\n",
    "        return ','.join([str(m) for m in self.modules ])\n",
    "\n",
    "    def forward(self,X,Y):\n",
    "\n",
    "        for module in self.modules:\n",
    "\n",
    "            X = module.forward(X)\n",
    "\n",
    "        loss,probs = self.loss_fn.forward(X,Y)\n",
    "        return loss,probs\n",
    "\n",
    "    def backward(self):\n",
    "        dout = self.loss_fn.backward()\n",
    "        for module in reversed(self.modules):\n",
    "            dout = module.backward(dout)\n",
    "\n",
    "    def update_weights(self, lr):\n",
    "\n",
    "        for module in self.modules:\n",
    "            if isinstance(module,Linear):\n",
    "                module.W = module.W - lr*module.dW\n",
    "                module.b = module.b - lr*module.db\n",
    "\n",
    "\n",
    "    def evaluate(self,x_eval,y_eval):\n",
    "\n",
    "        loss , probs = self.forward(x_eval,y_eval)\n",
    "\n",
    "        preds = (probs >= .5).astype('int')\n",
    "        acc = accuracy_score(y_eval,preds)\n",
    "\n",
    "        return {\n",
    "            'loss' : loss,\n",
    "            'acc' : acc\n",
    "        }"
   ]
  },
  {
   "cell_type": "markdown",
   "metadata": {
    "id": "ngioQRxAgdW5"
   },
   "source": [
    "# 3. Loading, Visualizing and Preparing Data"
   ]
  },
  {
   "cell_type": "markdown",
   "metadata": {
    "id": "v8UsNPK5gdW5"
   },
   "source": [
    "The MNIST dataset is a collection of 60,000, 28x28 pixel grayscale images of handwritten digits (0-9). We will use this dataset to train our MLP to classify this images.\n",
    "\n",
    "we use tensorflow to download and load the dataset"
   ]
  },
  {
   "cell_type": "code",
   "execution_count": 10,
   "metadata": {
    "execution": {
     "iopub.execute_input": "2023-11-08T19:49:36.063880Z",
     "iopub.status.busy": "2023-11-08T19:49:36.063551Z",
     "iopub.status.idle": "2023-11-08T19:49:36.068899Z",
     "shell.execute_reply": "2023-11-08T19:49:36.067832Z",
     "shell.execute_reply.started": "2023-11-08T19:49:36.063850Z"
    },
    "trusted": true,
    "id": "U2SS0cl8gdW5"
   },
   "outputs": [],
   "source": [
    "from tensorflow.keras.datasets import mnist\n",
    "import matplotlib.pyplot as plt\n",
    "from IPython.display import display,clear_output"
   ]
  },
  {
   "cell_type": "code",
   "execution_count": 11,
   "metadata": {
    "execution": {
     "iopub.execute_input": "2023-11-08T19:35:43.752700Z",
     "iopub.status.busy": "2023-11-08T19:35:43.752322Z",
     "iopub.status.idle": "2023-11-08T19:35:44.063998Z",
     "shell.execute_reply": "2023-11-08T19:35:44.062913Z",
     "shell.execute_reply.started": "2023-11-08T19:35:43.752671Z"
    },
    "trusted": true,
    "colab": {
     "base_uri": "https://localhost:8080/"
    },
    "id": "QwdgLEeqgdW5",
    "outputId": "85a5c354-9b51-4966-cc11-e35834eb56e7"
   },
   "outputs": [
    {
     "output_type": "stream",
     "name": "stdout",
     "text": [
      "Downloading data from https://storage.googleapis.com/tensorflow/tf-keras-datasets/mnist.npz\n",
      "11490434/11490434 [==============================] - 0s 0us/step\n",
      "(60000, 28, 28) (10000, 28, 28) (60000,) (10000,)\n"
     ]
    }
   ],
   "source": [
    "(x_train, y_train), (x_test, y_test) = mnist.load_data()\n",
    "print(x_train.shape,x_test.shape,y_train.shape,y_test.shape)"
   ]
  },
  {
   "cell_type": "markdown",
   "metadata": {
    "id": "BraVjiDogdW5"
   },
   "source": [
    "The following cell gets the first 10 images of each class in the training data and visualizes them."
   ]
  },
  {
   "cell_type": "code",
   "execution_count": 12,
   "metadata": {
    "execution": {
     "iopub.execute_input": "2023-11-08T19:35:45.817690Z",
     "iopub.status.busy": "2023-11-08T19:35:45.817285Z",
     "iopub.status.idle": "2023-11-08T19:35:45.959656Z",
     "shell.execute_reply": "2023-11-08T19:35:45.958421Z",
     "shell.execute_reply.started": "2023-11-08T19:35:45.817656Z"
    },
    "trusted": true,
    "colab": {
     "base_uri": "https://localhost:8080/",
     "height": 424
    },
    "id": "LD4ebMAcgdW5",
    "outputId": "ae9d2aeb-a5d7-4e2b-8ee6-941da59c5a17"
   },
   "outputs": [
    {
     "output_type": "execute_result",
     "data": {
      "text/plain": [
       "(-0.5, 279.5, 279.5, -0.5)"
      ]
     },
     "metadata": {},
     "execution_count": 12
    },
    {
     "output_type": "display_data",
     "data": {
      "text/plain": [
       "<Figure size 640x480 with 1 Axes>"
      ],
      "image/png": "[encoded data removed]"
     },
     "metadata": {}
    }
   ],
   "source": [
    "images = []\n",
    "for i in range(10):\n",
    "    image_indicies = np.where(y_train == i)[0][:10]\n",
    "    images.append(x_train[image_indicies].reshape(-1,28))\n",
    "images = np.hstack(images)\n",
    "plt.imshow(images,cmap='gray')\n",
    "plt.axis('off')\n"
   ]
  },
  {
   "cell_type": "markdown",
   "metadata": {
    "id": "9N0NMMkLgdW6"
   },
   "source": [
    "As you see from the above cells, the images in our dataset are 28x28 pixels. However, the Linear layers in MLP accept 1 dimensional inputs. There you should flatten the images to become one dimensional.\n",
    "\n",
    "In the following cell you should flatten the images(you can use `.reshape`)."
   ]
  },
  {
   "cell_type": "code",
   "execution_count": 13,
   "metadata": {
    "execution": {
     "iopub.execute_input": "2023-11-08T19:35:46.998490Z",
     "iopub.status.busy": "2023-11-08T19:35:46.997487Z",
     "iopub.status.idle": "2023-11-08T19:35:47.003320Z",
     "shell.execute_reply": "2023-11-08T19:35:47.002491Z",
     "shell.execute_reply.started": "2023-11-08T19:35:46.998452Z"
    },
    "trusted": true,
    "colab": {
     "base_uri": "https://localhost:8080/"
    },
    "id": "cTEzQ8jfgdW6",
    "outputId": "e804046b-9d96-4ec2-ef9e-b1c11f14735a"
   },
   "outputs": [
    {
     "output_type": "stream",
     "name": "stdout",
     "text": [
      "(60000, 784) (10000, 784) (60000,) (10000,)\n"
     ]
    }
   ],
   "source": [
    "####################################################################################################\n",
    "####################                         Your Code                         ####################\n",
    "####################################################################################################\n",
    "x_train = x_train.reshape(x_train.shape[0], -1)\n",
    "x_test = x_test.reshape(x_test.shape[0], -1)\n",
    "\n",
    "# New shapes\n",
    "print(x_train.shape, x_test.shape, y_train.shape, y_test.shape)\n",
    "####################################################################################################\n",
    "####################                      End Of Your Code                      ####################\n",
    "####################################################################################################"
   ]
  },
  {
   "cell_type": "code",
   "execution_count": 14,
   "metadata": {
    "execution": {
     "iopub.execute_input": "2023-11-08T19:35:49.797495Z",
     "iopub.status.busy": "2023-11-08T19:35:49.797071Z",
     "iopub.status.idle": "2023-11-08T19:35:49.813074Z",
     "shell.execute_reply": "2023-11-08T19:35:49.811818Z",
     "shell.execute_reply.started": "2023-11-08T19:35:49.797460Z"
    },
    "trusted": true,
    "colab": {
     "base_uri": "https://localhost:8080/"
    },
    "id": "N6rpNDW3gdW6",
    "outputId": "8f0146cd-3d7c-4bc7-a256-0f8305c80782"
   },
   "outputs": [
    {
     "output_type": "stream",
     "name": "stdout",
     "text": [
      "255 0\n"
     ]
    }
   ],
   "source": [
    "print(np.max(x_train),np.min(x_train))"
   ]
  },
  {
   "cell_type": "markdown",
   "metadata": {
    "id": "jBoQvJDagdW6"
   },
   "source": [
    "As you can see from the above cell, the values of pixels are integers between 0 and 255. But for better training(more stable training) we can normalize our data so that the pixel values are between 0 and 1.\n",
    "\n",
    "To to this run the cell bellow."
   ]
  },
  {
   "cell_type": "code",
   "execution_count": 15,
   "metadata": {
    "execution": {
     "iopub.execute_input": "2023-11-08T19:35:52.339775Z",
     "iopub.status.busy": "2023-11-08T19:35:52.339002Z",
     "iopub.status.idle": "2023-11-08T19:35:52.560721Z",
     "shell.execute_reply": "2023-11-08T19:35:52.559587Z",
     "shell.execute_reply.started": "2023-11-08T19:35:52.339730Z"
    },
    "trusted": true,
    "colab": {
     "base_uri": "https://localhost:8080/"
    },
    "id": "x4lIy9FlgdW6",
    "outputId": "98979ca8-a7b5-4944-ea2d-a50509a41cc8"
   },
   "outputs": [
    {
     "output_type": "stream",
     "name": "stdout",
     "text": [
      "1.0 0.0\n"
     ]
    }
   ],
   "source": [
    "x_train = x_train / 255\n",
    "x_test = x_test / 255\n",
    "print(np.max(x_train),np.min(x_train))"
   ]
  },
  {
   "cell_type": "markdown",
   "metadata": {
    "id": "XHAPUM4mgdW6"
   },
   "source": [
    "## 3.2 Splitting data for binary classification\n",
    "There are 10 classes in MNIST dataset, however we want to perform binary classification. In order to do this we only keep images and labels of 3 and 7. They labels should also get transformed so that they are binary (0 and 1). 0 will correspond to 3 and 1 will correspond to 7. Meaning that, if the output of the model is 1 then the prediction is 7 and if it's 0 then the prediction is 3.\n",
    "\n"
   ]
  },
  {
   "cell_type": "markdown",
   "metadata": {
    "id": "wZ0T-1g4gdW6"
   },
   "source": [
    "In the following cell, you should transform x_train,y_train,x_test,y_test in a way that only images/labels of 3 and 7 are included.\n",
    "\n",
    "There should be 12396 images/labels in your training data and 2038 images/labels in your test data.\n",
    "\n",
    "Name this new data arrays as x_train_new, x_test_new, y_train_new and y_test_new.\n"
   ]
  },
  {
   "cell_type": "code",
   "execution_count": 18,
   "metadata": {
    "id": "1ypDAHUWgdW6"
   },
   "outputs": [],
   "source": [
    "####################################################################################################\n",
    "####################                         Your Code                         ####################\n",
    "####################################################################################################\n",
    "train_valid = np.isin(y_train, [3, 7])\n",
    "test_valid = np.isin(y_test, [3, 7])\n",
    "\n",
    "x_train_new = x_train[train_valid]\n",
    "y_train_new = (y_train[train_valid] == 7).astype(int)  # 0 for 3, 1 for 7\n",
    "\n",
    "x_test_new = x_test[test_valid]\n",
    "y_test_new = (y_test[test_valid] == 7).astype(int)  # 0 for 3, 1 for 7\n",
    "####################################################################################################\n",
    "####################                      End Of Your Code                      ####################\n",
    "####################################################################################################\n",
    "assert x_train_new.shape == (12396, 784)\n",
    "assert x_test_new.shape == (2038, 784)"
   ]
  },
  {
   "cell_type": "markdown",
   "metadata": {
    "id": "NKNjdTzrgdW6"
   },
   "source": [
    "Now visualize 10 images in each class(3 and 7)"
   ]
  },
  {
   "cell_type": "code",
   "execution_count": 19,
   "metadata": {
    "colab": {
     "base_uri": "https://localhost:8080/",
     "height": 424
    },
    "id": "1l1Ejwj6gdW6",
    "outputId": "0f2264f0-056a-4bd7-ef18-cfc85ec7a34c"
   },
   "outputs": [
    {
     "output_type": "execute_result",
     "data": {
      "text/plain": [
       "(-0.5, 55.5, 279.5, -0.5)"
      ]
     },
     "metadata": {},
     "execution_count": 19
    },
    {
     "output_type": "display_data",
     "data": {
      "text/plain": [
       "<Figure size 640x480 with 1 Axes>"
      ],
      "image/png": "[encoded data removed]"
     },
     "metadata": {}
    }
   ],
   "source": [
    "images = []\n",
    "for i in [0,1]:\n",
    "    image_indicies = np.where(y_train_new == i)[0][:10]\n",
    "    images.append(x_train_new[image_indicies].reshape(-1,28))\n",
    "images = np.hstack(images)\n",
    "plt.imshow(images,cmap='gray')\n",
    "plt.axis('off')"
   ]
  },
  {
   "cell_type": "markdown",
   "metadata": {
    "id": "TPiNagaBgdW6"
   },
   "source": [
    "# 4.Training and Evaluating Model"
   ]
  },
  {
   "cell_type": "markdown",
   "metadata": {
    "id": "8OsvtnuAgdW6"
   },
   "source": [
    "The following cell creates a two layer MLP and trains it on MNIST dataset for 100 epochs. you can see loss and accuracy for both train and test datasets.\n",
    "\n",
    "**Note**: training and validation loops are implemented for you and you don't need to change the next cell. However you experiment by can changing the model architecture by adding additional layers, changing hidden dimension or by changing the learning rate, ... ."
   ]
  },
  {
   "cell_type": "code",
   "execution_count": 20,
   "metadata": {
    "execution": {
     "iopub.execute_input": "2023-11-08T19:37:22.877310Z",
     "iopub.status.busy": "2023-11-08T19:37:22.876956Z",
     "iopub.status.idle": "2023-11-08T19:49:36.061541Z",
     "shell.execute_reply": "2023-11-08T19:49:36.060414Z",
     "shell.execute_reply.started": "2023-11-08T19:37:22.877279Z"
    },
    "trusted": true,
    "colab": {
     "base_uri": "https://localhost:8080/",
     "height": 875
    },
    "id": "1eKl2drngdW6",
    "outputId": "b62a74fd-6d6c-4d9d-b454-4479a171c25f"
   },
   "outputs": [
    {
     "output_type": "display_data",
     "data": {
      "text/plain": [
       "     loss_train  acc_train  loss_test  acc_test\n",
       "0      7.504855   0.490239   7.636599  0.486261\n",
       "1      3.409142   0.474508   3.544025  0.469087\n",
       "2      1.976171   0.559455   2.099893  0.549068\n",
       "3      1.692385   0.602049   1.799753  0.586359\n",
       "4      1.466416   0.638996   1.558981  0.626595\n",
       "..          ...        ...        ...       ...\n",
       "96     0.192146   0.942401   0.217147  0.941609\n",
       "97     0.191214   0.942643   0.216319  0.941609\n",
       "98     0.190296   0.943207   0.215505  0.942591\n",
       "99     0.189393   0.943611   0.214703  0.942591\n",
       "100    0.188502   0.943853   0.213914  0.942591\n",
       "\n",
       "[101 rows x 4 columns]"
      ],
      "text/html": [
       "\n",
       "  <div id=\"df-ddadeaed-6aa1-41a3-bbcb-acd04bc79bc2\" class=\"colab-df-container\">\n",
       "    <div>\n",
       "<style scoped>\n",
       "    .dataframe tbody tr th:only-of-type {\n",
       "        vertical-align: middle;\n",
       "    }\n",
       "\n",
       "    .dataframe tbody tr th {\n",
       "        vertical-align: top;\n",
       "    }\n",
       "\n",
       "    .dataframe thead th {\n",
       "        text-align: right;\n",
       "    }\n",
       "</style>\n",
       "<table border=\"1\" class=\"dataframe\">\n",
       "  <thead>\n",
       "    <tr style=\"text-align: right;\">\n",
       "      <th></th>\n",
       "      <th>loss_train</th>\n",
       "      <th>acc_train</th>\n",
       "      <th>loss_test</th>\n",
       "      <th>acc_test</th>\n",
       "    </tr>\n",
       "  </thead>\n",
       "  <tbody>\n",
       "    <tr>\n",
       "      <th>0</th>\n",
       "      <td>7.504855</td>\n",
       "      <td>0.490239</td>\n",
       "      <td>7.636599</td>\n",
       "      <td>0.486261</td>\n",
       "    </tr>\n",
       "    <tr>\n",
       "      <th>1</th>\n",
       "      <td>3.409142</td>\n",
       "      <td>0.474508</td>\n",
       "      <td>3.544025</td>\n",
       "      <td>0.469087</td>\n",
       "    </tr>\n",
       "    <tr>\n",
       "      <th>2</th>\n",
       "      <td>1.976171</td>\n",
       "      <td>0.559455</td>\n",
       "      <td>2.099893</td>\n",
       "      <td>0.549068</td>\n",
       "    </tr>\n",
       "    <tr>\n",
       "      <th>3</th>\n",
       "      <td>1.692385</td>\n",
       "      <td>0.602049</td>\n",
       "      <td>1.799753</td>\n",
       "      <td>0.586359</td>\n",
       "    </tr>\n",
       "    <tr>\n",
       "      <th>4</th>\n",
       "      <td>1.466416</td>\n",
       "      <td>0.638996</td>\n",
       "      <td>1.558981</td>\n",
       "      <td>0.626595</td>\n",
       "    </tr>\n",
       "    <tr>\n",
       "      <th>...</th>\n",
       "      <td>...</td>\n",
       "      <td>...</td>\n",
       "      <td>...</td>\n",
       "      <td>...</td>\n",
       "    </tr>\n",
       "    <tr>\n",
       "      <th>96</th>\n",
       "      <td>0.192146</td>\n",
       "      <td>0.942401</td>\n",
       "      <td>0.217147</td>\n",
       "      <td>0.941609</td>\n",
       "    </tr>\n",
       "    <tr>\n",
       "      <th>97</th>\n",
       "      <td>0.191214</td>\n",
       "      <td>0.942643</td>\n",
       "      <td>0.216319</td>\n",
       "      <td>0.941609</td>\n",
       "    </tr>\n",
       "    <tr>\n",
       "      <th>98</th>\n",
       "      <td>0.190296</td>\n",
       "      <td>0.943207</td>\n",
       "      <td>0.215505</td>\n",
       "      <td>0.942591</td>\n",
       "    </tr>\n",
       "    <tr>\n",
       "      <th>99</th>\n",
       "      <td>0.189393</td>\n",
       "      <td>0.943611</td>\n",
       "      <td>0.214703</td>\n",
       "      <td>0.942591</td>\n",
       "    </tr>\n",
       "    <tr>\n",
       "      <th>100</th>\n",
       "      <td>0.188502</td>\n",
       "      <td>0.943853</td>\n",
       "      <td>0.213914</td>\n",
       "      <td>0.942591</td>\n",
       "    </tr>\n",
       "  </tbody>\n",
       "</table>\n",
       "<p>101 rows × 4 columns</p>\n",
       "</div>\n",
       "    <div class=\"colab-df-buttons\">\n",
       "\n",
       "  <div class=\"colab-df-container\">\n",
       "    <button class=\"colab-df-convert\" onclick=\"convertToInteractive('df-ddadeaed-6aa1-41a3-bbcb-acd04bc79bc2')\"\n",
       "            title=\"Convert this dataframe to an interactive table.\"\n",
       "            style=\"display:none;\">\n",
       "\n",
       "  <svg xmlns=\"http://www.w3.org/2000/svg\" height=\"24px\" viewBox=\"0 -960 960 960\">\n",
       "    <path d=\"M120-120v-720h720v720H120Zm60-500h600v-160H180v160Zm220 220h160v-160H400v160Zm0 220h160v-160H400v160ZM180-400h160v-160H180v160Zm440 0h160v-160H620v160ZM180-180h160v-160H180v160Zm440 0h160v-160H620v160Z\"/>\n",
       "  </svg>\n",
       "    </button>\n",
       "\n",
       "  <style>\n",
       "    .colab-df-container {\n",
       "      display:flex;\n",
       "      gap: 12px;\n",
       "    }\n",
       "\n",
       "    .colab-df-convert {\n",
       "      background-color: #E8F0FE;\n",
       "      border: none;\n",
       "      border-radius: 50%;\n",
       "      cursor: pointer;\n",
       "      display: none;\n",
       "      fill: #1967D2;\n",
       "      height: 32px;\n",
       "      padding: 0 0 0 0;\n",
       "      width: 32px;\n",
       "    }\n",
       "\n",
       "    .colab-df-convert:hover {\n",
       "      background-color: #E2EBFA;\n",
       "      box-shadow: 0px 1px 2px rgba(60, 64, 67, 0.3), 0px 1px 3px 1px rgba(60, 64, 67, 0.15);\n",
       "      fill: #174EA6;\n",
       "    }\n",
       "\n",
       "    .colab-df-buttons div {\n",
       "      margin-bottom: 4px;\n",
       "    }\n",
       "\n",
       "    [theme=dark] .colab-df-convert {\n",
       "      background-color: #3B4455;\n",
       "      fill: #D2E3FC;\n",
       "    }\n",
       "\n",
       "    [theme=dark] .colab-df-convert:hover {\n",
       "      background-color: #434B5C;\n",
       "      box-shadow: 0px 1px 3px 1px rgba(0, 0, 0, 0.15);\n",
       "      filter: drop-shadow(0px 1px 2px rgba(0, 0, 0, 0.3));\n",
       "      fill: #FFFFFF;\n",
       "    }\n",
       "  </style>\n",
       "\n",
       "    <script>\n",
       "      const buttonEl =\n",
       "        document.querySelector('#df-ddadeaed-6aa1-41a3-bbcb-acd04bc79bc2 button.colab-df-convert');\n",
       "      buttonEl.style.display =\n",
       "        google.colab.kernel.accessAllowed ? 'block' : 'none';\n",
       "\n",
       "      async function convertToInteractive(key) {\n",
       "        const element = document.querySelector('#df-ddadeaed-6aa1-41a3-bbcb-acd04bc79bc2');\n",
       "        const dataTable =\n",
       "          await google.colab.kernel.invokeFunction('convertToInteractive',\n",
       "                                                    [key], {});\n",
       "        if (!dataTable) return;\n",
       "\n",
       "        const docLinkHtml = 'Like what you see? Visit the ' +\n",
       "          '<a target=\"_blank\" href=https://colab.research.google.com/notebooks/data_table.ipynb>data table notebook</a>'\n",
       "          + ' to learn more about interactive tables.';\n",
       "        element.innerHTML = '';\n",
       "        dataTable['output_type'] = 'display_data';\n",
       "        await google.colab.output.renderOutput(dataTable, element);\n",
       "        const docLink = document.createElement('div');\n",
       "        docLink.innerHTML = docLinkHtml;\n",
       "        element.appendChild(docLink);\n",
       "      }\n",
       "    </script>\n",
       "  </div>\n",
       "\n",
       "\n",
       "<div id=\"df-e9e5c6e1-3dee-49d6-8880-2080c572160b\">\n",
       "  <button class=\"colab-df-quickchart\" onclick=\"quickchart('df-e9e5c6e1-3dee-49d6-8880-2080c572160b')\"\n",
       "            title=\"Suggest charts\"\n",
       "            style=\"display:none;\">\n",
       "\n",
       "<svg xmlns=\"http://www.w3.org/2000/svg\" height=\"24px\"viewBox=\"0 0 24 24\"\n",
       "     width=\"24px\">\n",
       "    <g>\n",
       "        <path d=\"M19 3H5c-1.1 0-2 .9-2 2v14c0 1.1.9 2 2 2h14c1.1 0 2-.9 2-2V5c0-1.1-.9-2-2-2zM9 17H7v-7h2v7zm4 0h-2V7h2v10zm4 0h-2v-4h2v4z\"/>\n",
       "    </g>\n",
       "</svg>\n",
       "  </button>\n",
       "\n",
       "<style>\n",
       "  .colab-df-quickchart {\n",
       "      --bg-color: #E8F0FE;\n",
       "      --fill-color: #1967D2;\n",
       "      --hover-bg-color: #E2EBFA;\n",
       "      --hover-fill-color: #174EA6;\n",
       "      --disabled-fill-color: #AAA;\n",
       "      --disabled-bg-color: #DDD;\n",
       "  }\n",
       "\n",
       "  [theme=dark] .colab-df-quickchart {\n",
       "      --bg-color: #3B4455;\n",
       "      --fill-color: #D2E3FC;\n",
       "      --hover-bg-color: #434B5C;\n",
       "      --hover-fill-color: #FFFFFF;\n",
       "      --disabled-bg-color: #3B4455;\n",
       "      --disabled-fill-color: #666;\n",
       "  }\n",
       "\n",
       "  .colab-df-quickchart {\n",
       "    background-color: var(--bg-color);\n",
       "    border: none;\n",
       "    border-radius: 50%;\n",
       "    cursor: pointer;\n",
       "    display: none;\n",
       "    fill: var(--fill-color);\n",
       "    height: 32px;\n",
       "    padding: 0;\n",
       "    width: 32px;\n",
       "  }\n",
       "\n",
       "  .colab-df-quickchart:hover {\n",
       "    background-color: var(--hover-bg-color);\n",
       "    box-shadow: 0 1px 2px rgba(60, 64, 67, 0.3), 0 1px 3px 1px rgba(60, 64, 67, 0.15);\n",
       "    fill: var(--button-hover-fill-color);\n",
       "  }\n",
       "\n",
       "  .colab-df-quickchart-complete:disabled,\n",
       "  .colab-df-quickchart-complete:disabled:hover {\n",
       "    background-color: var(--disabled-bg-color);\n",
       "    fill: var(--disabled-fill-color);\n",
       "    box-shadow: none;\n",
       "  }\n",
       "\n",
       "  .colab-df-spinner {\n",
       "    border: 2px solid var(--fill-color);\n",
       "    border-color: transparent;\n",
       "    border-bottom-color: var(--fill-color);\n",
       "    animation:\n",
       "      spin 1s steps(1) infinite;\n",
       "  }\n",
       "\n",
       "  @keyframes spin {\n",
       "    0% {\n",
       "      border-color: transparent;\n",
       "      border-bottom-color: var(--fill-color);\n",
       "      border-left-color: var(--fill-color);\n",
       "    }\n",
       "    20% {\n",
       "      border-color: transparent;\n",
       "      border-left-color: var(--fill-color);\n",
       "      border-top-color: var(--fill-color);\n",
       "    }\n",
       "    30% {\n",
       "      border-color: transparent;\n",
       "      border-left-color: var(--fill-color);\n",
       "      border-top-color: var(--fill-color);\n",
       "      border-right-color: var(--fill-color);\n",
       "    }\n",
       "    40% {\n",
       "      border-color: transparent;\n",
       "      border-right-color: var(--fill-color);\n",
       "      border-top-color: var(--fill-color);\n",
       "    }\n",
       "    60% {\n",
       "      border-color: transparent;\n",
       "      border-right-color: var(--fill-color);\n",
       "    }\n",
       "    80% {\n",
       "      border-color: transparent;\n",
       "      border-right-color: var(--fill-color);\n",
       "      border-bottom-color: var(--fill-color);\n",
       "    }\n",
       "    90% {\n",
       "      border-color: transparent;\n",
       "      border-bottom-color: var(--fill-color);\n",
       "    }\n",
       "  }\n",
       "</style>\n",
       "\n",
       "  <script>\n",
       "    async function quickchart(key) {\n",
       "      const quickchartButtonEl =\n",
       "        document.querySelector('#' + key + ' button');\n",
       "      quickchartButtonEl.disabled = true;  // To prevent multiple clicks.\n",
       "      quickchartButtonEl.classList.add('colab-df-spinner');\n",
       "      try {\n",
       "        const charts = await google.colab.kernel.invokeFunction(\n",
       "            'suggestCharts', [key], {});\n",
       "      } catch (error) {\n",
       "        console.error('Error during call to suggestCharts:', error);\n",
       "      }\n",
       "      quickchartButtonEl.classList.remove('colab-df-spinner');\n",
       "      quickchartButtonEl.classList.add('colab-df-quickchart-complete');\n",
       "    }\n",
       "    (() => {\n",
       "      let quickchartButtonEl =\n",
       "        document.querySelector('#df-e9e5c6e1-3dee-49d6-8880-2080c572160b button');\n",
       "      quickchartButtonEl.style.display =\n",
       "        google.colab.kernel.accessAllowed ? 'block' : 'none';\n",
       "    })();\n",
       "  </script>\n",
       "</div>\n",
       "    </div>\n",
       "  </div>\n"
      ]
     },
     "metadata": {}
    },
    {
     "output_type": "execute_result",
     "data": {
      "text/plain": [
       "<Axes: >"
      ]
     },
     "metadata": {},
     "execution_count": 20
    },
    {
     "output_type": "display_data",
     "data": {
      "text/plain": [
       "<Figure size 1600x500 with 2 Axes>"
      ],
      "image/png": "[encoded data removed]"
     },
     "metadata": {}
    }
   ],
   "source": [
    "#model definition\n",
    "criterion = BinaryCrossEntropyLoss()\n",
    "mlp = Model([Linear(784,200),Sigmoid(),Linear(200,1),Sigmoid()],loss_fn = criterion)\n",
    "\n",
    "\n",
    "train_results  = []\n",
    "test_results = []\n",
    "EPOCHS = 100\n",
    "\n",
    "train_results.append(mlp.evaluate(x_train_new,y_train_new))\n",
    "test_results.append(mlp.evaluate(x_test_new,y_test_new))\n",
    "\n",
    "for epoch in range(EPOCHS):\n",
    "    loss, preds =  mlp.forward(x_train_new,y_train_new)\n",
    "\n",
    "    mlp.evaluate(x_train_new,y_train_new)\n",
    "    mlp.backward()\n",
    "    mlp.update_weights(.2)\n",
    "\n",
    "    train_results.append(mlp.evaluate(x_train_new,y_train_new))\n",
    "    test_results.append(mlp.evaluate(x_test_new,y_test_new))\n",
    "    clear_output()\n",
    "    display(pd.merge(pd.DataFrame(train_results),pd.DataFrame(test_results),left_index=True,right_index=True,suffixes=['_train','_test']))\n",
    "\n",
    "results = pd.merge(pd.DataFrame(train_results),pd.DataFrame(test_results),left_index=True,right_index=True,suffixes=['_train','_test'])\n",
    "fix,(ax1,ax2)  = plt.subplots(1,2,figsize=(16,5))\n",
    "results[['acc_train','acc_test']].plot(ax=ax1)\n",
    "results[['loss_train','loss_test']].plot(ax=ax2)"
   ]
  }
 ],
 "metadata": {
  "kernelspec": {
   "display_name": "Python 3",
   "language": "python",
   "name": "python3"
  },
  "language_info": {
   "codemirror_mode": {
    "name": "ipython",
    "version": 3
   },
   "file_extension": ".py",
   "mimetype": "text/x-python",
   "name": "python",
   "nbconvert_exporter": "python",
   "pygments_lexer": "ipython3",
   "version": "3.11.5"
  },
  "colab": {
   "provenance": []
  }
 },
 "nbformat": 4,
 "nbformat_minor": 0
}
